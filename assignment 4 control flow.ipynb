{
 "cells": [
  {
   "cell_type": "markdown",
   "id": "e00bc2b2-35a1-425f-877e-d8a5d2c0222f",
   "metadata": {},
   "source": [
    "## CONTROL FLOW ASSIGNMENT QUESTIONS"
   ]
  },
  {
   "cell_type": "markdown",
   "id": "579335d1-a594-4197-9dcc-0c50773713f1",
   "metadata": {},
   "source": [
    "### BASIC IF-ELSE STATEMENTS:"
   ]
  },
  {
   "cell_type": "markdown",
   "id": "672fc1e8-84e5-40df-836d-8ecbfafb4980",
   "metadata": {},
   "source": [
    "### 1. Write a python program to check if a given number is positive or negative."
   ]
  },
  {
   "cell_type": "code",
   "execution_count": 3,
   "id": "2998d54b-f849-4413-99ff-f57519e6c9dc",
   "metadata": {},
   "outputs": [
    {
     "name": "stdin",
     "output_type": "stream",
     "text": [
      "enter a number:  10\n"
     ]
    },
    {
     "name": "stdout",
     "output_type": "stream",
     "text": [
      "the number is positive\n"
     ]
    }
   ],
   "source": [
    "number = int(input(\"enter a number: \"))\n",
    "if number > 0:\n",
    "    print(\"the number is positive\")\n",
    "elif number < 0:\n",
    "    print(\"the number is negative\")\n",
    "             \n",
    "             "
   ]
  },
  {
   "cell_type": "markdown",
   "id": "63e1ac46-c7b8-446c-ad62-15c372fe9903",
   "metadata": {},
   "source": [
    "### 2.Create  a program that determines if a person is eligible to vote based on their age."
   ]
  },
  {
   "cell_type": "code",
   "execution_count": 4,
   "id": "91592f18-5108-4fe6-9ad9-933488c52387",
   "metadata": {},
   "outputs": [
    {
     "name": "stdin",
     "output_type": "stream",
     "text": [
      "enter age: 23\n"
     ]
    },
    {
     "name": "stdout",
     "output_type": "stream",
     "text": [
      "you are eligible to  vote\n"
     ]
    }
   ],
   "source": [
    "age = int(input(\"enter age:\"))\n",
    "if age >= 18:\n",
    "    print(\"you are eligible to  vote\")\n",
    "else:\n",
    "    print(\"you are not eligible to vote \")"
   ]
  },
  {
   "cell_type": "markdown",
   "id": "06b310fb-aaf6-492f-8408-0c0bc4b3dc80",
   "metadata": {},
   "source": [
    "### 3.develop a program to find the maximum of two numbers using if-else statement."
   ]
  },
  {
   "cell_type": "code",
   "execution_count": 7,
   "id": "a56357e5-6fe1-4f63-987d-dca8bc9cb0cd",
   "metadata": {},
   "outputs": [
    {
     "name": "stdin",
     "output_type": "stream",
     "text": [
      "enter first numbers:  12\n",
      "enter  second number:  25\n"
     ]
    },
    {
     "name": "stdout",
     "output_type": "stream",
     "text": [
      "the maximum number is : 25\n"
     ]
    }
   ],
   "source": [
    "number1 = int(input(\"enter first numbers: \"))\n",
    "number2 = int(input(\"enter  second number: \"))\n",
    "if number1 > number2:\n",
    "    maximum = number1\n",
    "else:\n",
    "    maximum = number2\n",
    "print(\"the maximum number is :\", maximum)\n",
    "    "
   ]
  },
  {
   "cell_type": "markdown",
   "id": "49cab48e-1b87-4edf-95a2-1cc554683fa5",
   "metadata": {},
   "source": [
    "### 4.Write a python  script to classify a given year as a leap year or not."
   ]
  },
  {
   "cell_type": "code",
   "execution_count": 11,
   "id": "946397cd-a23a-424f-8c6d-bb906d0812c4",
   "metadata": {},
   "outputs": [
    {
     "name": "stdin",
     "output_type": "stream",
     "text": [
      "enter a year:  2001\n"
     ]
    },
    {
     "name": "stdout",
     "output_type": "stream",
     "text": [
      "2001 is not  leap year\n"
     ]
    }
   ],
   "source": [
    "year = int(input(\"enter a year: \"))\n",
    "if (year % 4== 0 and year % 100 != 0) or (year % 400 == 0):\n",
    "    print(f\"{year} is a leap year\")\n",
    "else:\n",
    "    print(f\"{year} is not  leap year\")"
   ]
  },
  {
   "cell_type": "markdown",
   "id": "89179032-55b5-4c96-92d8-1e1e0c9066c9",
   "metadata": {},
   "source": [
    "### 5.create a program that check whether a character is a vowel or a consonant."
   ]
  },
  {
   "cell_type": "code",
   "execution_count": 13,
   "id": "d7c47158-a21b-4809-981f-baab2bfb0925",
   "metadata": {},
   "outputs": [
    {
     "name": "stdin",
     "output_type": "stream",
     "text": [
      "enter character: z\n"
     ]
    },
    {
     "name": "stdout",
     "output_type": "stream",
     "text": [
      "z is consonant\n"
     ]
    }
   ],
   "source": [
    "char = input(\"enter character:\")\n",
    "if char.isalpha() and len(char) == 1:\n",
    "    if char.lower() in \"aeiou\":\n",
    "        print(f\"{char} is vowel\")\n",
    "    else:\n",
    "        print(f\"{char} is consonant\")\n",
    "        "
   ]
  },
  {
   "cell_type": "markdown",
   "id": "5e7b9f54-e966-407e-9577-0309ef749ed5",
   "metadata": {},
   "source": [
    "### 6.Implement a program to determine whether a given number is even or odd."
   ]
  },
  {
   "cell_type": "code",
   "execution_count": 14,
   "id": "3fee8a8c-ef8e-47f5-ae62-e65da5411998",
   "metadata": {},
   "outputs": [
    {
     "name": "stdin",
     "output_type": "stream",
     "text": [
      "enter number: 12\n"
     ]
    },
    {
     "name": "stdout",
     "output_type": "stream",
     "text": [
      "12 is an even number\n"
     ]
    }
   ],
   "source": [
    "number = int(input(\"enter number:\"))\n",
    "if number % 2 == 0:\n",
    "    print(f\"{number} is an even number\")\n",
    "else:\n",
    "    print(f\"{number} is an odd number\")\n",
    "             "
   ]
  },
  {
   "cell_type": "markdown",
   "id": "51701f81-82dd-4676-b94a-04384b0ae177",
   "metadata": {},
   "source": [
    "### 7.write a python  function to calculate the absolute value of a number without using the 'abs()' function."
   ]
  },
  {
   "cell_type": "code",
   "execution_count": 15,
   "id": "9e2dcd32-1ea3-4543-95ef-23decdb3d3f9",
   "metadata": {},
   "outputs": [
    {
     "name": "stdin",
     "output_type": "stream",
     "text": [
      "enter number:  12\n"
     ]
    },
    {
     "name": "stdout",
     "output_type": "stream",
     "text": [
      "the absolute value is: 12.0\n"
     ]
    }
   ],
   "source": [
    "def absolute_value(number):\n",
    "    if number < 0:\n",
    "        return - number\n",
    "    else:\n",
    "        return number\n",
    "num = float(input(\"enter number: \"))\n",
    "result = absolute_value(num)\n",
    "print(\"the absolute value is:\", result)"
   ]
  },
  {
   "cell_type": "markdown",
   "id": "692fdc8c-b56b-4fb1-8f7d-82004a344ea0",
   "metadata": {},
   "source": [
    "### 8.Develop a program that determines the largest of three given numbers using  if-else statements."
   ]
  },
  {
   "cell_type": "code",
   "execution_count": 16,
   "id": "34f5376c-ee37-4b36-8160-16d90d35e2f4",
   "metadata": {},
   "outputs": [
    {
     "name": "stdout",
     "output_type": "stream",
     "text": [
      "the largest number is : 60\n"
     ]
    }
   ],
   "source": [
    "num1 = 22\n",
    "num2 = 60\n",
    "num3 = 22\n",
    "if num1 >= num2 and num1 >= num3:\n",
    "    largest = num1\n",
    "elif num2 >= num1 and num2 >= num3:\n",
    "    largest = num2\n",
    "else:\n",
    "    largest = num3\n",
    "print(\"the largest number is :\", largest)"
   ]
  },
  {
   "cell_type": "markdown",
   "id": "47c8e108-ae0d-49dc-a871-bb824cba787b",
   "metadata": {},
   "source": [
    "### 9.create a program that checks if a given string is a palindrome."
   ]
  },
  {
   "cell_type": "code",
   "execution_count": 17,
   "id": "6761e74c-8302-4f83-8877-31add50fcffb",
   "metadata": {},
   "outputs": [
    {
     "name": "stdin",
     "output_type": "stream",
     "text": [
      "enter string:  level\n"
     ]
    },
    {
     "name": "stdout",
     "output_type": "stream",
     "text": [
      "string is palindrome\n"
     ]
    }
   ],
   "source": [
    "my_string = input(\"enter string: \")\n",
    "my_string = my_string.replace(\" \",\"\").lower()\n",
    "if my_string == my_string[::-1]:\n",
    "    print(\"string is palindrome\")\n",
    "else:\n",
    "    print(\"the string is not palindrome\")"
   ]
  },
  {
   "cell_type": "markdown",
   "id": "53d85908-f5e6-4506-93a6-38776f893885",
   "metadata": {},
   "source": [
    "### 10.write a python program to calculate the grade based on a student's score."
   ]
  },
  {
   "cell_type": "code",
   "execution_count": 21,
   "id": "8c9c9bc7-38fe-4156-be5e-8f51041fb2b0",
   "metadata": {},
   "outputs": [
    {
     "name": "stdin",
     "output_type": "stream",
     "text": [
      "enter student score:  92\n"
     ]
    },
    {
     "name": "stdout",
     "output_type": "stream",
     "text": [
      " student's grade is:A\n"
     ]
    }
   ],
   "source": [
    "student_score = float(input(\"enter student score: \"))\n",
    "A_grade = 90\n",
    "B_grade = 80\n",
    "C_grade = 70\n",
    "D_grade = 60\n",
    "if student_score >= A_grade:\n",
    "    grade = \"A\"\n",
    "elif student_score >= B_grade:\n",
    "    grade = \"B\"\n",
    "elif student_score >= C_grade:\n",
    "    grade = \"C\"\n",
    "elif student_score >= D_grade:\n",
    "    grade = \"D\"\n",
    "else:\n",
    "    grade = \"F\"\n",
    "print(f\" student's grade is:{grade}\")\n",
    "    "
   ]
  },
  {
   "cell_type": "markdown",
   "id": "d6a827c1-43cd-4819-a7d1-5084bd5fb8a2",
   "metadata": {},
   "source": [
    "## NESTED IF-ELSE STATEMENT:"
   ]
  },
  {
   "cell_type": "markdown",
   "id": "9a49cddc-ddda-4d66-a7be-0ccb9b0b01f5",
   "metadata": {},
   "source": [
    "### 11.Write a program to find the largest among three numbers using nested if-else statements."
   ]
  },
  {
   "cell_type": "code",
   "execution_count": 22,
   "id": "af9725d3-0158-4e5b-a19b-64cb4bead3b8",
   "metadata": {},
   "outputs": [
    {
     "name": "stdout",
     "output_type": "stream",
     "text": [
      "largest number is : 90\n"
     ]
    }
   ],
   "source": [
    "num1 = 60\n",
    "num2 = 90\n",
    "num3 = 20\n",
    "if num1 >= num2:\n",
    "    if num1 >= num3:\n",
    "        largest = num1\n",
    "    else:\n",
    "        largest = num3\n",
    "else:\n",
    "    if num2 >= num3:\n",
    "        largest = num2\n",
    "    else:\n",
    "        largest = num3\n",
    "print(\"largest number is :\", largest)"
   ]
  },
  {
   "cell_type": "markdown",
   "id": "26f64415-ad22-493f-a42c-659af0ab6adc",
   "metadata": {},
   "source": [
    "### 12 implement a program to determine if a triangle is equilateral, isosceles, or scalene."
   ]
  },
  {
   "cell_type": "code",
   "execution_count": 10,
   "id": "4145e042-3c11-4ef2-a26e-5921c262838c",
   "metadata": {},
   "outputs": [
    {
     "name": "stdin",
     "output_type": "stream",
     "text": [
      "enter length of first side: 3\n",
      "enter length of second side: 6\n",
      "enter length of third side: 9\n"
     ]
    },
    {
     "name": "stdout",
     "output_type": "stream",
     "text": [
      "the triangle is: scalene\n"
     ]
    }
   ],
   "source": [
    "side1 = int(input(\"enter length of first side:\"))\n",
    "side2 = int(input(\"enter length of second side:\"))\n",
    "side3 = int(input(\"enter length of third side:\"))\n",
    "if side1 == side2 == side3:\n",
    "            triangle_type = \"equilateral\"\n",
    "elif side1 == side2 or side1 == side3 or side2 == side3:\n",
    "            triangle_type = \"isosceles\"\n",
    "else:\n",
    "            triangle_type = \"scalene\"\n",
    "print(\"the triangle is:\",triangle_type)\n"
   ]
  },
  {
   "cell_type": "markdown",
   "id": "cc33ca5c-4703-43fd-89a0-a666b3847c40",
   "metadata": {},
   "source": [
    "### 13.Develop a program that checks ifa year is a leap year and also if it is a century year."
   ]
  },
  {
   "cell_type": "code",
   "execution_count": 15,
   "id": "93abdfff-504f-412b-94b9-84893534c6d4",
   "metadata": {},
   "outputs": [
    {
     "name": "stdin",
     "output_type": "stream",
     "text": [
      "enter a year:  1999\n"
     ]
    },
    {
     "name": "stdout",
     "output_type": "stream",
     "text": [
      "1999 is  not leap year\n",
      "1999 is not century year\n"
     ]
    }
   ],
   "source": [
    "year = int(input(\"enter a year: \"))\n",
    "is_leap_year = (year % 4 == 0 and year % 100 !=0) or (year % 400 == 0)\n",
    "is_century_year = year % 100 == 0\n",
    "\n",
    "if is_leap_year:\n",
    "    print(f\"{year} is a leap year\")\n",
    "else:\n",
    "    print(f\"{year} is  not leap year\")\n",
    "    \n",
    "if is_century_year:\n",
    "    print(f\"{year} is century year\")\n",
    "else:\n",
    "    print(f\"{year} is not century year\")\n",
    "          "
   ]
  },
  {
   "cell_type": "markdown",
   "id": "e9754504-4ccc-4f40-a58b-daa687ae0d73",
   "metadata": {},
   "source": [
    "### 14 Write a python script to determine if number is positive, negative ,or zero. "
   ]
  },
  {
   "cell_type": "code",
   "execution_count": 4,
   "id": "97aa8516-2514-4038-bf40-9d0b90235417",
   "metadata": {},
   "outputs": [
    {
     "name": "stdin",
     "output_type": "stream",
     "text": [
      "enter a number:  0\n"
     ]
    },
    {
     "name": "stdout",
     "output_type": "stream",
     "text": [
      "the number is zero\n"
     ]
    }
   ],
   "source": [
    "number = int(input(\"enter a number: \"))\n",
    "if number > 0:\n",
    "  print(\"the number is positive\")\n",
    "elif number < 0:\n",
    "  print(\"the number is negative\")\n",
    "else:\n",
    "  print(\"the number is zero\")\n",
    "             "
   ]
  },
  {
   "cell_type": "markdown",
   "id": "a867beb4-f8ff-494f-8d0b-741a3118f4ca",
   "metadata": {},
   "source": [
    "### 15. create a program to check if a  person is a teenager (between 13 and 19 years old)."
   ]
  },
  {
   "cell_type": "code",
   "execution_count": 10,
   "id": "d2ce34c9-cb6c-4349-9bbb-662ecfa24526",
   "metadata": {},
   "outputs": [
    {
     "name": "stdin",
     "output_type": "stream",
     "text": [
      "enter person's age:  18\n"
     ]
    },
    {
     "name": "stdout",
     "output_type": "stream",
     "text": [
      "person is teenager\n"
     ]
    }
   ],
   "source": [
    "age = int(input(\"enter person's age: \"))\n",
    "if 13 <= age <= 19:\n",
    "    print(\"person is teenager\")\n",
    "else:\n",
    "    print(\"person is not teenager\")"
   ]
  },
  {
   "cell_type": "markdown",
   "id": "2a015451-b84e-44a7-a09d-b7b15074e908",
   "metadata": {},
   "source": [
    "### 16.Develop a program that determines the type of angle based on its measure(acute, obbtuse, or right)."
   ]
  },
  {
   "cell_type": "code",
   "execution_count": 15,
   "id": "52cceacc-d5b6-439b-8ceb-36ad2ba6c5e6",
   "metadata": {},
   "outputs": [
    {
     "name": "stdin",
     "output_type": "stream",
     "text": [
      "enter angle  measure in degrees:  90\n"
     ]
    },
    {
     "name": "stdout",
     "output_type": "stream",
     "text": [
      "the angle is right\n"
     ]
    }
   ],
   "source": [
    "angle = float(input(\"enter angle  measure in degrees: \"))\n",
    "if angle < 90:\n",
    "    angle_type = \"acute\"\n",
    "elif angle == 90:\n",
    "    angle_type = \"right\"\n",
    "else:\n",
    "    angle_type = \"obtuse\"\n",
    "print(f\"the angle is {angle_type}\")\n",
    "              "
   ]
  },
  {
   "cell_type": "markdown",
   "id": "bc7cada6-2075-4f52-8c9d-92c9ea4f6055",
   "metadata": {},
   "source": [
    "### 17 write python program to calculate the roots of a quadratic equation."
   ]
  },
  {
   "cell_type": "code",
   "execution_count": 17,
   "id": "d4716d7a-8aa4-4e91-a1e5-d49bfd5c7576",
   "metadata": {},
   "outputs": [
    {
     "name": "stdin",
     "output_type": "stream",
     "text": [
      "enter coefficient 'x':  2\n",
      "enter coefficient 'y' :  4\n",
      "enter coefficient 'z' :  6\n"
     ]
    },
    {
     "name": "stdout",
     "output_type": "stream",
     "text": [
      "roots are complex: -1.0 + 1.4142135623730951i and -1.0 - 1.4142135623730951i\n"
     ]
    }
   ],
   "source": [
    "x = float(input(\"enter coefficient 'x': \"))\n",
    "y = float(input(\"enter coefficient 'y' : \"))\n",
    "z = float(input(\"enter coefficient 'z' : \"))\n",
    "\n",
    "discriminant = y**2 - 4*x*z\n",
    "if discriminant > 0:\n",
    "    root1 = (-y + (discriminant**0.5)) / (2*x)\n",
    "    root2 = (-y - (discriminant**0.5))/(2*x)\n",
    "    print(f\"the roots are real and distinct:{root1} and {root2}\")\n",
    "elif discriminant == 0:\n",
    "    root1 = -y/ (2*x)\n",
    "    print(f\"root is real and equal: {root1}\")\n",
    "else:\n",
    "    real_part = -y / (2*x)\n",
    "    imaginary_part = (abs(discriminant)**0.5) / (2*x)\n",
    "    print(f\"roots are complex: {real_part} + {imaginary_part}i and {real_part} - {imaginary_part}i\")"
   ]
  },
  {
   "cell_type": "markdown",
   "id": "4194e040-e9da-4e42-93e3-4aed0c8d5acf",
   "metadata": {},
   "source": [
    "### 18.implement a program to determine the day of the week based on a user-provided number (1 for monday , 2 for tuesday, etc)."
   ]
  },
  {
   "cell_type": "code",
   "execution_count": 20,
   "id": "dbe03289-da8f-4ff3-a4ad-361904c182f1",
   "metadata": {},
   "outputs": [
    {
     "name": "stdin",
     "output_type": "stream",
     "text": [
      "enter number (1-7) representing day of week:  5\n"
     ]
    },
    {
     "name": "stdout",
     "output_type": "stream",
     "text": [
      "the day corresponding to 5 is friday\n"
     ]
    }
   ],
   "source": [
    "day_number = int(input(\"enter number (1-7) representing day of week: \"))\n",
    "if 1 <= day_number <= 7:\n",
    "    days_of_week = [\"monday\", \"thesday\",\"wednesday\",\"thursday\",\"friday\",\"saturday\",\"sunday\"]\n",
    "    day = days_of_week[day_number - 1]\n",
    "    print(f\"the day corresponding to {day_number} is {day}\")\n",
    "else:\n",
    "    print(\"invalid input. please enter a number between 1 and 7\")"
   ]
  },
  {
   "cell_type": "markdown",
   "id": "bf3bee14-459f-492f-a92c-b15fff7dc19e",
   "metadata": {},
   "source": [
    "### 19 Create a program that determines if a year is leap year and also if it is evenly divisible by 400."
   ]
  },
  {
   "cell_type": "code",
   "execution_count": 21,
   "id": "91e32645-16c2-43db-b5b2-46a472453a41",
   "metadata": {},
   "outputs": [
    {
     "name": "stdin",
     "output_type": "stream",
     "text": [
      "enter year:  2000\n"
     ]
    },
    {
     "name": "stdout",
     "output_type": "stream",
     "text": [
      "2000 is a leap year and even divisible by 400\n"
     ]
    }
   ],
   "source": [
    "def is_leap_year(year):\n",
    "    if(year % 4 == 0 and year % 100 != 0) or (year % 400 ==0):\n",
    "        return True\n",
    "    else:\n",
    "        return False\n",
    "    \n",
    "year = int(input(\"enter year: \"))\n",
    "if is_leap_year(year):\n",
    "    print(f\"{year} is a leap year and even divisible by 400\")\n",
    "else:\n",
    "    print(f\"{year} is not a leap year or not evenly divisible by 400\")"
   ]
  },
  {
   "cell_type": "markdown",
   "id": "2bf97f19-e8b2-4584-9539-ff8a612b5b43",
   "metadata": {},
   "source": [
    "### 20 Develop a program that checks if a given number is prime or not using nested if-else statements."
   ]
  },
  {
   "cell_type": "code",
   "execution_count": 22,
   "id": "bd1dafee-d16c-4d7c-937c-427d56af9b26",
   "metadata": {},
   "outputs": [
    {
     "name": "stdin",
     "output_type": "stream",
     "text": [
      "enter number: 23\n"
     ]
    },
    {
     "name": "stdout",
     "output_type": "stream",
     "text": [
      "23 is prime number\n"
     ]
    }
   ],
   "source": [
    "def is_prime (number):\n",
    "    if number <= 1:\n",
    "        prime = False\n",
    "    elif number <=3:\n",
    "        prime = True\n",
    "    elif number % 2 == 0 or number % 3 == 0:\n",
    "        prime = False\n",
    "    else:\n",
    "        i = 5 \n",
    "        while i * i <= number:\n",
    "            if number % i == 0 or number % (i + 2) == 0:\n",
    "                prime = False\n",
    "                break\n",
    "            i += 6\n",
    "        else:\n",
    "            prime = True\n",
    "    return prime\n",
    "number = int(input(\"enter number:\"))\n",
    "if is_prime(number):\n",
    "    print(f\"{number} is prime number\")\n",
    "else:\n",
    "    print(f\"{number} is not prime number\")"
   ]
  },
  {
   "cell_type": "markdown",
   "id": "c83a5ce1-916c-4bc8-b388-1297aeb0d275",
   "metadata": {},
   "source": [
    "### ELIF STATEMENTS:"
   ]
  },
  {
   "cell_type": "markdown",
   "id": "c0370680-17ab-44fc-a9c0-bb1166e6797b",
   "metadata": {},
   "source": [
    "### 21.Write a python program to assign grades based on different ranges of scores using elif statements."
   ]
  },
  {
   "cell_type": "code",
   "execution_count": 24,
   "id": "8d8f8b47-0868-41b4-9c84-40d047fb9aa6",
   "metadata": {},
   "outputs": [
    {
     "name": "stdin",
     "output_type": "stream",
     "text": [
      "enter student's score:  76\n"
     ]
    },
    {
     "name": "stdout",
     "output_type": "stream",
     "text": [
      "the student grade is C\n"
     ]
    }
   ],
   "source": [
    "score = float(input(\"enter student's score: \"))\n",
    "if score >= 90:\n",
    "    grade = 'A'\n",
    "elif score >= 80:\n",
    "    grade = 'B'\n",
    "elif score >= 70:\n",
    "    grade = 'C'\n",
    "elif score >= 60:\n",
    "    grade = 'D'\n",
    "else:\n",
    "    grade ='F'\n",
    "    \n",
    "print(f\"the student grade is {grade}\")  "
   ]
  },
  {
   "cell_type": "markdown",
   "id": "d02b8f13-8054-4955-b190-417b7a08ce9d",
   "metadata": {},
   "source": [
    "### 22.Implement a program to determine the type of a triangle based on its angles."
   ]
  },
  {
   "cell_type": "code",
   "execution_count": 9,
   "id": "4849de2a-ddb9-41c4-9579-07ac25e2004b",
   "metadata": {},
   "outputs": [
    {
     "name": "stdin",
     "output_type": "stream",
     "text": [
      "enter first angle:  60\n",
      "enter  second angle:  80\n",
      "enter third angle:  40\n"
     ]
    },
    {
     "name": "stdout",
     "output_type": "stream",
     "text": [
      "the triangle is scalene\n"
     ]
    }
   ],
   "source": [
    "angle1 = float(input(\"enter first angle: \"))\n",
    "angle2 = float(input(\"enter  second angle: \"))\n",
    "angle3 = float(input(\"enter third angle: \"))\n",
    "if angle1 + angle2 + angle3 == 180:\n",
    "    if angle1 == angle2 == angle3:\n",
    "        triangle_type = \"equilateral\"\n",
    "    elif angle1 == angle2 or angle2 == angle3 or angle1 == angle3:\n",
    "        triangle_type = \"isosceles\"\n",
    "    else:\n",
    "        triangle_type = \"scalene\"\n",
    "else:\n",
    "    triangle_type = \"not valid triangle\"\n",
    "print(f\"the triangle is {triangle_type}\")"
   ]
  },
  {
   "cell_type": "markdown",
   "id": "f08d04b2-4825-43d2-854e-36f06475767d",
   "metadata": {},
   "source": [
    "### 23.Develop a program to categorize a given person's BMI into underweight, normal ,overweight, or obese using elif statements."
   ]
  },
  {
   "cell_type": "code",
   "execution_count": 13,
   "id": "e827289c-a9ce-48d1-977c-2c42a4bb7d91",
   "metadata": {},
   "outputs": [
    {
     "name": "stdin",
     "output_type": "stream",
     "text": [
      "enter weight in kelograms:  45\n",
      "enter  height in meters:  5.2\n"
     ]
    },
    {
     "name": "stdout",
     "output_type": "stream",
     "text": [
      " the person's BMI category is underweight \n"
     ]
    }
   ],
   "source": [
    "weight = float(input(\"enter weight in kelograms: \"))\n",
    "height = float(input(\"enter  height in meters: \"))\n",
    "bmi = weight / (height ** 2)\n",
    "if bmi < 18.5:\n",
    "    category = \"underweight\"\n",
    "elif 18.5 <= bmi < 24.9:\n",
    "    category = \"normal\"\n",
    "elif 24.9 <= bmi < 29.9:\n",
    "    category = \"overweight\"\n",
    "else:\n",
    "    category = \"obese\"\n",
    "print(f\" the person's BMI category is {category} \")\n",
    "    "
   ]
  },
  {
   "cell_type": "markdown",
   "id": "f2630d20-0716-40bc-acb2-e747d5fba253",
   "metadata": {},
   "source": [
    "### 24create a program that determines  whether a given number is positive, negative, or zero using elif statements"
   ]
  },
  {
   "cell_type": "code",
   "execution_count": 2,
   "id": "63862b43-1814-4546-a8c6-7b1014b52e07",
   "metadata": {},
   "outputs": [
    {
     "name": "stdin",
     "output_type": "stream",
     "text": [
      "enter number:  -30\n"
     ]
    },
    {
     "name": "stdout",
     "output_type": "stream",
     "text": [
      "the number is negative\n"
     ]
    }
   ],
   "source": [
    "number = int(input(\"enter number: \"))\n",
    "if number > 0:\n",
    "    print(\"the number is positive\")\n",
    "elif number < 0:\n",
    "    print(\"the number is negative\")\n",
    "else:\n",
    "    print(\"the number is zero\")"
   ]
  },
  {
   "cell_type": "markdown",
   "id": "e6380487-ddcc-488b-a85e-84e8835b9d7a",
   "metadata": {},
   "source": [
    "### 25.write a pyhton script to determine type of a character(uppercase, lowercase,or special) using elif statements."
   ]
  },
  {
   "cell_type": "code",
   "execution_count": 3,
   "id": "919b681b-c898-4cf0-89ce-5c14a72a07f3",
   "metadata": {},
   "outputs": [
    {
     "name": "stdin",
     "output_type": "stream",
     "text": [
      "enter character:  A\n"
     ]
    },
    {
     "name": "stdout",
     "output_type": "stream",
     "text": [
      "the character is uppercase\n"
     ]
    }
   ],
   "source": [
    "char = input(\"enter character: \")\n",
    "if char.islower():\n",
    "    print(\"the character is  lowercase\")\n",
    "elif char.isupper():\n",
    "    print(\"the character is uppercase\")\n",
    "else:\n",
    "    print(\"the character  is special character or digit\")"
   ]
  },
  {
   "cell_type": "markdown",
   "id": "5fa08c23-5fb0-4fdd-bac8-8dd2bfe55935",
   "metadata": {},
   "source": [
    "### 26.Implement a program to calculate the discounted price based on different purchase amounts using elif statements."
   ]
  },
  {
   "cell_type": "code",
   "execution_count": 9,
   "id": "950222e0-78d7-4e80-9c51-fcd66e955a26",
   "metadata": {},
   "outputs": [
    {
     "name": "stdin",
     "output_type": "stream",
     "text": [
      "enetr purchase amount:  500\n"
     ]
    },
    {
     "name": "stdout",
     "output_type": "stream",
     "text": [
      "purchase amount :$500.0\n",
      "discount percentage:5%\n",
      "discount amount: $25.00\n",
      "discount price :$475.00\n"
     ]
    }
   ],
   "source": [
    "purchase_amount = float(input(\"enetr purchase amount: \"))\n",
    "discount_percentage =0\n",
    "if purchase_amount >= 1000:\n",
    "    discount_percentage = 10\n",
    "elif purchase_amount >= 500:\n",
    "    discount_percentage = 5\n",
    "elif purchase_amount >= 100:\n",
    "    discount_percentage = 2\n",
    "discount = (discount_percentage/100)* purchase_amount\n",
    "discounted_price = purchase_amount - discount\n",
    "print(f\"purchase amount :${purchase_amount}\")\n",
    "print(f\"discount percentage:{discount_percentage}%\")\n",
    "print(f\"discount amount: ${discount:.2f}\")\n",
    "print(f\"discount price :${discounted_price:.2f}\")\n",
    "\n",
    "                "
   ]
  },
  {
   "cell_type": "markdown",
   "id": "72dbeb42-40ed-421f-b92b-d3ddb46e4df6",
   "metadata": {},
   "source": [
    "### 27.develop a program to calculate the electricity bill based on different consumption slabs using elif statements."
   ]
  },
  {
   "cell_type": "code",
   "execution_count": null,
   "id": "ab632255-e02f-43a3-98e5-f18aaf89e8a2",
   "metadata": {},
   "outputs": [],
   "source": []
  },
  {
   "cell_type": "code",
   "execution_count": 1,
   "id": "c26aa201-f6cb-4d55-8d1e-bf216185f4a6",
   "metadata": {},
   "outputs": [
    {
     "name": "stdin",
     "output_type": "stream",
     "text": [
      "enter electricity consuption in kilowatt-hours:  1000\n"
     ]
    },
    {
     "name": "stdout",
     "output_type": "stream",
     "text": [
      "electricity consumption:1000.0kwh\n",
      "electricity rate:$1.50 per kwh\n",
      "electricity bill: $1500.00\n"
     ]
    }
   ],
   "source": [
    "consumption = float(input(\"enter electricity consuption in kilowatt-hours: \"))\n",
    "bill = 0.0 \n",
    "rate = 0.0 \n",
    "\n",
    "if consumption <= 50:\n",
    "    rate = 0.50 \n",
    "elif consumption <= 100:\n",
    "    rate = 0.75\n",
    "elif consumption <= 200:\n",
    "    rate = 1.20\n",
    "else:\n",
    "    rate = 1.50\n",
    "bill = consumption * rate\n",
    "print(f\"electricity consumption:{consumption}kwh\")\n",
    "print(f\"electricity rate:${rate:.2f} per kwh\")\n",
    "print(f\"electricity bill: ${bill:.2f}\")"
   ]
  },
  {
   "cell_type": "markdown",
   "id": "36a8696b-7ec9-4b83-9b05-517ee590c1a1",
   "metadata": {},
   "source": [
    "# 28create program to determine type of quadrilateral based on its angle and sides using elif statements."
   ]
  },
  {
   "cell_type": "code",
   "execution_count": 4,
   "id": "74dcf002-062e-4164-9fe2-5ce856bccf1f",
   "metadata": {},
   "outputs": [
    {
     "name": "stdin",
     "output_type": "stream",
     "text": [
      "enter first angle:  100\n",
      "enter second angle :  200\n",
      "enter third angle:  50\n",
      "enter four angle :  100\n",
      "enetr length of first side :  30\n",
      "enter length of second side: 30\n",
      "enter length of third side:  30\n",
      "enter length of fourth side: 30\n"
     ]
    },
    {
     "name": "stdout",
     "output_type": "stream",
     "text": [
      "the quadrilateral is quadrilateral\n"
     ]
    }
   ],
   "source": [
    "angle1 = int(input(\"enter first angle: \"))\n",
    "angle2 = int(input(\"enter second angle : \"))\n",
    "angle3 = int(input(\"enter third angle: \"))\n",
    "angle4 = int(input(\"enter four angle : \"))\n",
    "\n",
    "side1 = float(input(\"enetr length of first side : \"))\n",
    "side2 = float(input(\"enter length of second side:\"))\n",
    "side3 = float(input(\"enter length of third side: \"))\n",
    "side4 = float(input(\"enter length of fourth side:\"))\n",
    "\n",
    "if angle1== angle2 == angle3 == angle4 == 90:\n",
    "    if side1 == side2 == side3 == side4:\n",
    "        quardilateral_type = \"square\"\n",
    "    elif side1 == side3 and side2 == side4:\n",
    "        quadrilateral_type = \"rectangle\"\n",
    "    else:\n",
    "        quadrilateral_type = \"quadrilateral\"\n",
    "else:\n",
    "    quadrilateral_type = \"quadrilateral\"\n",
    "    \n",
    "print(f\"the quadrilateral is {quadrilateral_type}\")"
   ]
  },
  {
   "cell_type": "markdown",
   "id": "b58b64ee-e675-4234-8f12-42074fe16488",
   "metadata": {},
   "source": [
    "### 29.write python script to determine the season based on a user-provided month using elif statements."
   ]
  },
  {
   "cell_type": "code",
   "execution_count": 6,
   "id": "1e2d8229-e809-4c88-9981-fe085d8f07cd",
   "metadata": {},
   "outputs": [
    {
     "name": "stdin",
     "output_type": "stream",
     "text": [
      "enter month:  february\n"
     ]
    },
    {
     "name": "stdout",
     "output_type": "stream",
     "text": [
      " the season for february is winter.\n"
     ]
    }
   ],
   "source": [
    "month = input(\"enter month: \")\n",
    "month = month.lower()\n",
    "if month in [\"december\",\"january\",\"february\"]:\n",
    "    season = \"winter\"\n",
    "elif month in [\"march\",\"april\",\"may\"]:\n",
    "    season = \"spring\"\n",
    "elif month in[\"september\",\"october\",\"november\"]:\n",
    "    season = \"autumn/fall\"\n",
    "else:\n",
    "    season = \"invalid month\"\n",
    "print(f\" the season for {month} is {season}.\")"
   ]
  },
  {
   "cell_type": "markdown",
   "id": "6af60afb-96f4-4cb1-9c1b-396a2032b298",
   "metadata": {},
   "source": [
    "### 30 Implement a program to determine the type of year (leap or common) and month (30 or 31 days) using elif statements."
   ]
  },
  {
   "cell_type": "code",
   "execution_count": 10,
   "id": "eb8a204d-f56c-44e3-bd67-e31b3985d9bb",
   "metadata": {},
   "outputs": [
    {
     "name": "stdin",
     "output_type": "stream",
     "text": [
      "enter year:  1999\n"
     ]
    },
    {
     "name": "stdout",
     "output_type": "stream",
     "text": [
      "the year is a common year.\n",
      "February has 28 days\n"
     ]
    }
   ],
   "source": [
    "year = int(input(\"enter year: \"))\n",
    "if (year % 4 == 0 and year % 100 != 0) or (year % 400 == 0):\n",
    "    year_type = \"leap\"\n",
    "else:\n",
    "    year_type = \"common\"\n",
    "month = month.lower()\n",
    "if month in [\"january\",\"march\",\"may\",\"july\",\"august\",\"october\" , \"december\"]:\n",
    "    days = 31\n",
    "elif month in [\"april\",\"june\",\"september\", \"november\"]:\n",
    "    days = 30\n",
    "elif month == \"february\":\n",
    "    if year_type == \"leap\":\n",
    "        days = 29\n",
    "    else:\n",
    "        days = 28\n",
    "else:\n",
    "    days = \"invalid month\"\n",
    "print(f\"the year is a {year_type} year.\")\n",
    "print(f\"{month.capitalize()} has {days} days\")"
   ]
  },
  {
   "cell_type": "markdown",
   "id": "3497efc8-dea2-4ae9-a9b2-467d0a6715eb",
   "metadata": {},
   "source": [
    "## basic level:"
   ]
  },
  {
   "cell_type": "markdown",
   "id": "39db2704-cad6-4cbe-ab2e-06ea80ed852f",
   "metadata": {},
   "source": [
    "### 1.Write a python program that checks if a given number is positive,negative,or zero."
   ]
  },
  {
   "cell_type": "code",
   "execution_count": 11,
   "id": "5037c0e9-8306-4070-b388-2b633397b549",
   "metadata": {},
   "outputs": [
    {
     "name": "stdin",
     "output_type": "stream",
     "text": [
      "enter number:  12\n"
     ]
    },
    {
     "name": "stdout",
     "output_type": "stream",
     "text": [
      "the number is positive \n"
     ]
    }
   ],
   "source": [
    "number = float(input(\"enter number: \"))\n",
    "if number > 0:\n",
    "    print(\"the number is positive \")\n",
    "elif number < 0:\n",
    "    print(\"the number is negative\")\n",
    "else:\n",
    "    print(\"the number is zero\")"
   ]
  },
  {
   "cell_type": "markdown",
   "id": "4c28c3d6-99e2-43ef-a32b-4389891df30c",
   "metadata": {},
   "source": [
    "### 2 create a program to determine if a person is eligible to vote based on their age."
   ]
  },
  {
   "cell_type": "code",
   "execution_count": 12,
   "id": "fee29280-766d-4454-8fd7-d8a662c22481",
   "metadata": {},
   "outputs": [
    {
     "name": "stdin",
     "output_type": "stream",
     "text": [
      "enetr your age:  8\n"
     ]
    },
    {
     "name": "stdout",
     "output_type": "stream",
     "text": [
      "you are not eligible  to vote\n"
     ]
    }
   ],
   "source": [
    "age = int(input(\"enetr your age: \"))\n",
    "if age >= 18:\n",
    "    print(\"you are eligible to vote\")\n",
    "else:\n",
    "    print(\"you are not eligible  to vote\")"
   ]
  },
  {
   "cell_type": "markdown",
   "id": "9b0a61ad-c9f4-4973-9635-55bf390a53a3",
   "metadata": {},
   "source": [
    "### 3 Write a program to find the maximum of two given numbers using conditional statements."
   ]
  },
  {
   "cell_type": "code",
   "execution_count": 16,
   "id": "e180c6b1-194c-46ca-82e5-5afb172ed054",
   "metadata": {},
   "outputs": [
    {
     "name": "stdin",
     "output_type": "stream",
     "text": [
      "enter  first number:  2\n",
      "enetr second number:  5\n"
     ]
    },
    {
     "name": "stdout",
     "output_type": "stream",
     "text": [
      "the maximum number is: maximum\n"
     ]
    }
   ],
   "source": [
    "num1 = int(input(\"enter  first number: \"))\n",
    "num2 = int(input(\"enetr second number: \"))\n",
    "if num1 > num2:\n",
    "    maximum = num1\n",
    "else:\n",
    "    maximum = num2\n",
    "print(\"the maximum number is: maximum\")"
   ]
  },
  {
   "cell_type": "markdown",
   "id": "57e5554c-6be2-43ca-b327-937bc37dff09",
   "metadata": {},
   "source": [
    "### 4 develop a program that calculates the grade of a student based on their exam score."
   ]
  },
  {
   "cell_type": "code",
   "execution_count": 1,
   "id": "8e4bf91c-09c1-4cfb-a658-2b723d6f86d3",
   "metadata": {},
   "outputs": [
    {
     "name": "stdin",
     "output_type": "stream",
     "text": [
      "enter exam score:  98\n"
     ]
    },
    {
     "name": "stdout",
     "output_type": "stream",
     "text": [
      " the student's grade is : A \n"
     ]
    }
   ],
   "source": [
    "score = float(input(\"enter exam score: \"))\n",
    "if 90 <= score <= 100:\n",
    "    grade = \"A\"\n",
    "elif 80 <= score < 90:\n",
    "    grade = \"B\"\n",
    "elif 70 <= score < 80:\n",
    "    grade = \"C\"\n",
    "else:\n",
    "    grade = \"F\"\n",
    "print(f\" the student's grade is : { grade} \") \n",
    "\n",
    "    "
   ]
  },
  {
   "cell_type": "markdown",
   "id": "bfb50f7f-9864-4654-9184-6a431d1ccc1a",
   "metadata": {},
   "source": [
    "### 5 create a program that checks if a year is a leap year or not."
   ]
  },
  {
   "cell_type": "code",
   "execution_count": 2,
   "id": "337ca23d-7b6e-4ad7-9f50-b0f98c137b54",
   "metadata": {},
   "outputs": [
    {
     "name": "stdin",
     "output_type": "stream",
     "text": [
      "enter  year:  2023\n"
     ]
    },
    {
     "name": "stdout",
     "output_type": "stream",
     "text": [
      "2023 is not leap year\n"
     ]
    }
   ],
   "source": [
    "year = int(input(\"enter  year: \"))\n",
    "if (year % 4 == 0 and year % 100 != 0) or (year % 400 == 0):\n",
    "    print(f\"{year} is a leap year\")\n",
    "else:\n",
    "    print(f\"{year} is not leap year\")"
   ]
  },
  {
   "cell_type": "markdown",
   "id": "de0b3248-2e47-4ef1-8514-a386b514dd63",
   "metadata": {},
   "source": [
    "### 6. write a program to classify a triangle based on its sides lengths."
   ]
  },
  {
   "cell_type": "code",
   "execution_count": 4,
   "id": "3356c92b-f31a-4948-809f-dde0e7a22c60",
   "metadata": {},
   "outputs": [
    {
     "name": "stdin",
     "output_type": "stream",
     "text": [
      "enter length of  first side:  40\n",
      "enter length of second side:  60\n",
      "enter length of second side:  90\n"
     ]
    },
    {
     "name": "stdout",
     "output_type": "stream",
     "text": [
      " the triangle is a scalene triangle\n"
     ]
    }
   ],
   "source": [
    "side1 = float(input(\"enter length of  first side: \"))\n",
    "side2 = float(input(\"enter length of second side: \"))\n",
    "side3 = float(input(\"enter length of second side: \"))\n",
    "\n",
    "if side1 == side2 == side3:\n",
    "    triangle_type = \"equilateral\"\n",
    "elif side1 == side2 or side2 == side3 or side1 == side3:\n",
    "    triangle_type = \"isosceles\"\n",
    "else:\n",
    "    triangle_type = \"scalene\"\n",
    "print(f\" the triangle is a {triangle_type} triangle\")"
   ]
  },
  {
   "cell_type": "markdown",
   "id": "fcf5ba6b-b5e1-46b0-ab27-81da8c6478d1",
   "metadata": {},
   "source": [
    "### 7.Build a program that determines the largest of three given numbers."
   ]
  },
  {
   "cell_type": "code",
   "execution_count": 8,
   "id": "f305a2e4-e6dc-4615-b512-6f26d81a2212",
   "metadata": {},
   "outputs": [
    {
     "name": "stdin",
     "output_type": "stream",
     "text": [
      "enter first number:  90\n",
      "enter second number:  50\n",
      "enter third number:  150\n"
     ]
    },
    {
     "name": "stdout",
     "output_type": "stream",
     "text": [
      "largest number is : 150.0\n"
     ]
    }
   ],
   "source": [
    "num1 = float(input(\"enter first number: \"))\n",
    "num2 = float(input(\"enter second number: \"))\n",
    "num3 = float(input(\"enter third number: \"))\n",
    "if num1 >= num2 and num1 >= num3:\n",
    "    largest = num1\n",
    "elif num2 >= num1 and num2 >= num3:\n",
    "    largest = num2\n",
    "else:\n",
    "     largest = num3\n",
    "print(f\"largest number is : {largest}\")"
   ]
  },
  {
   "cell_type": "markdown",
   "id": "a8c893af-8cf8-408e-b702-eba092a18a30",
   "metadata": {},
   "source": [
    "### 8.Develop a program that checks whether a character is a vowel or a consonant."
   ]
  },
  {
   "cell_type": "code",
   "execution_count": 9,
   "id": "db247c51-a798-464d-91fa-95f6b9c4c823",
   "metadata": {},
   "outputs": [
    {
     "name": "stdin",
     "output_type": "stream",
     "text": [
      "enter character:  r\n"
     ]
    },
    {
     "name": "stdout",
     "output_type": "stream",
     "text": [
      "r is consonant \n"
     ]
    }
   ],
   "source": [
    "char = input(\"enter character: \")\n",
    "char = char.lower()\n",
    "if char.isalpha() and len(char) == 1:\n",
    "    if char in \"aeiou\":\n",
    "        print(f\"{char} is vowel\")\n",
    "    else:\n",
    "        print(f\"{char} is consonant \")\n",
    "else:\n",
    "    print(\"please enter valid single character\")"
   ]
  },
  {
   "cell_type": "markdown",
   "id": "2721db67-9660-4414-a456-ae70f31e66de",
   "metadata": {},
   "source": [
    "### 9.Create a program to calculate the total cost of a shopping cart based on discounts."
   ]
  },
  {
   "cell_type": "code",
   "execution_count": 10,
   "id": "3bc3c9a3-ee13-4ee7-9f9e-9da30edd9219",
   "metadata": {},
   "outputs": [
    {
     "name": "stdin",
     "output_type": "stream",
     "text": [
      "enter number of items in your shopping cart:  5\n",
      "enetr price of item1 :  30\n",
      "enetr price of item2 :  80\n",
      "enetr price of item3 :  20\n",
      "enetr price of item4 :  60\n",
      "enetr price of item5 :  120\n"
     ]
    },
    {
     "name": "stdout",
     "output_type": "stream",
     "text": [
      "total cost of shopping cart: ${total_cost:.2f}\n",
      "discount applied:  10%\n",
      " total cost after discount:$279.00\n"
     ]
    }
   ],
   "source": [
    "num_items = int(input(\"enter number of items in your shopping cart: \"))\n",
    "total_cost = 0.0\n",
    "discount = 0.0\n",
    "for i in range(num_items):\n",
    "    item_price = float(input(f\"enetr price of item{i+1} : \"))\n",
    "    total_cost += item_price\n",
    "if total_cost >= 100:\n",
    "    discount = 0.1\n",
    "discounted_cost = total_cost - (total_cost * discount)\n",
    "print(\"total cost of shopping cart: ${total_cost:.2f}\")\n",
    "print(f\"discount applied: {discount *100: .0f}%\")\n",
    "print(f\" total cost after discount:${discounted_cost:.2f}\")    "
   ]
  },
  {
   "cell_type": "markdown",
   "id": "af8ae8ca-6a6e-460e-9ed4-eb66e5d2822e",
   "metadata": {},
   "source": [
    "### 10 write a program that checks if a given numbers is even or odd."
   ]
  },
  {
   "cell_type": "code",
   "execution_count": 1,
   "id": "692fa5d3-f403-4021-8124-86ee5353e89c",
   "metadata": {},
   "outputs": [
    {
     "name": "stdin",
     "output_type": "stream",
     "text": [
      "enter number:  67\n"
     ]
    },
    {
     "name": "stdout",
     "output_type": "stream",
     "text": [
      "67 is an odd number\n"
     ]
    }
   ],
   "source": [
    "number = int(input(\"enter number: \"))\n",
    "if number % 2 == 0:\n",
    "    print(f\"{number} is an even number\")\n",
    "else:\n",
    "    print(f\"{number} is an odd number\")"
   ]
  },
  {
   "cell_type": "markdown",
   "id": "6e2b20ca-520c-4c81-8c6b-ad337db49c24",
   "metadata": {},
   "source": [
    "### INTERMEDIATE LEVEL:"
   ]
  },
  {
   "cell_type": "markdown",
   "id": "563845dc-17fb-46b1-b0f5-dbd048343072",
   "metadata": {},
   "source": [
    "### 11 Write a program that calculates the roots of a quadritic equation."
   ]
  },
  {
   "cell_type": "code",
   "execution_count": 1,
   "id": "d84538f4-333d-4369-8e41-609964589c70",
   "metadata": {},
   "outputs": [
    {
     "name": "stdin",
     "output_type": "stream",
     "text": [
      "enter coefficient x:  6\n",
      "enter coeficient y:  8\n",
      "enter coeficient z:  4.7\n"
     ]
    },
    {
     "name": "stdout",
     "output_type": "stream",
     "text": [
      "the roots of quadratic equation are: (-0.6666666666666666+0.5821416398857661j) and (-0.6666666666666666-0.5821416398857661j)\n"
     ]
    }
   ],
   "source": [
    "import cmath\n",
    "x =float(input(\"enter coefficient x: \"))\n",
    "y = float(input(\"enter coeficient y: \"))\n",
    "z = float(input(\"enter coeficient z: \"))\n",
    "discriminant = y**2 - 4*x*z\n",
    "root1 = (-y + cmath.sqrt(discriminant))/(2*x)\n",
    "root2 = (-y - cmath.sqrt(discriminant)) /(2*x)\n",
    "\n",
    "print(f\"the roots of quadratic equation are: {root1} and {root2}\")"
   ]
  },
  {
   "cell_type": "markdown",
   "id": "80998d68-8110-4da8-98c6-0f4f3408c70c",
   "metadata": {},
   "source": [
    "### 12create a program that determines the day of the week based on the day number (1-7)."
   ]
  },
  {
   "cell_type": "code",
   "execution_count": 2,
   "id": "edd53d27-da0b-41f8-8bd0-b29eaa5c753a",
   "metadata": {},
   "outputs": [
    {
     "name": "stdin",
     "output_type": "stream",
     "text": [
      "enter day number (1-7):  6\n"
     ]
    },
    {
     "name": "stdout",
     "output_type": "stream",
     "text": [
      "day 6 corresponds to friday\n"
     ]
    }
   ],
   "source": [
    "day_number = int(input(\"enter day number (1-7): \"))\n",
    "days_of_week = [\"sunday\",\"monday\",\"tuesday\",\"wednesday\",\"thursday\",\"friday\",\"saturday\"]\n",
    "\n",
    "if 1 <= day_number <= 7:\n",
    "    day_name = days_of_week[day_number-1]\n",
    "    print(f\"day {day_number} corresponds to {day_name}\")\n",
    "else:\n",
    "    print(\"invalid day number. enter number between 1 and 7\")"
   ]
  },
  {
   "cell_type": "markdown",
   "id": "d72d730f-b967-41e7-9d17-ee33335610d8",
   "metadata": {},
   "source": [
    "### 13 develop a program that calculates the factorial of a given number using recursion."
   ]
  },
  {
   "cell_type": "code",
   "execution_count": 9,
   "id": "9edf731f-b9c4-46f8-938d-5e54e35091bf",
   "metadata": {},
   "outputs": [
    {
     "name": "stdin",
     "output_type": "stream",
     "text": [
      "enter number:  6\n"
     ]
    },
    {
     "name": "stdout",
     "output_type": "stream",
     "text": [
      " factorial of 6 is 720\n"
     ]
    }
   ],
   "source": [
    "def factorial(n):\n",
    "    if n == 0:\n",
    "        return 1\n",
    "    else:\n",
    "        return n* factorial(n-1)\n",
    "num = int(input(\"enter number: \"))\n",
    "if num < 0:\n",
    "    print(\"fcatorial is not defind for negative number\")\n",
    "else:\n",
    "    result = factorial(num)\n",
    "    print(f\" factorial of {num} is {result}\")"
   ]
  },
  {
   "cell_type": "markdown",
   "id": "1ec54ba1-7171-4c12-943d-1d16b060843a",
   "metadata": {},
   "source": [
    "### 14 write a program to find the largest among three numbers without using the 'max()' function"
   ]
  },
  {
   "cell_type": "code",
   "execution_count": 1,
   "id": "c61400b5-7976-4290-a09f-ceb909898c2a",
   "metadata": {},
   "outputs": [
    {
     "name": "stdin",
     "output_type": "stream",
     "text": [
      "enter first number:  55\n",
      "enter second number:  96\n",
      "enter third number:  64\n"
     ]
    },
    {
     "name": "stdout",
     "output_type": "stream",
     "text": [
      "the largest number is : 96.0\n"
     ]
    }
   ],
   "source": [
    "num1 = float(input(\"enter first number: \"))\n",
    "num2 = float(input(\"enter second number: \"))\n",
    "num3 = float(input(\"enter third number: \"))\n",
    "if num1 >= num2 and num1 >= num3:\n",
    "    largest = num1\n",
    "elif num2 >= num1 and num2 >= num3:\n",
    "    largest = num2\n",
    "else:\n",
    "    largest = num3\n",
    "print(f\"the largest number is : {largest}\")\n",
    "            "
   ]
  },
  {
   "cell_type": "markdown",
   "id": "91279914-e244-4f41-8bea-d7c7ae6e9110",
   "metadata": {},
   "source": [
    "### 15.create a program that simulates a basic ATM transaction menu."
   ]
  },
  {
   "cell_type": "code",
   "execution_count": 5,
   "id": "541fe389-5e24-4899-8612-5071a2ac30d1",
   "metadata": {},
   "outputs": [
    {
     "name": "stdout",
     "output_type": "stream",
     "text": [
      "ATM menu: \n",
      "1.check balance\n",
      "2.deposit\n",
      "3.withdraw\n",
      "4.quit\n"
     ]
    },
    {
     "name": "stdin",
     "output_type": "stream",
     "text": [
      "enter  ur choice(1/2/3/4): 2\n",
      "enter deposite amount: $ 3\n"
     ]
    },
    {
     "name": "stdout",
     "output_type": "stream",
     "text": [
      "deposited $3.00. ur update balance is$1003.00\n",
      "ATM menu: \n",
      "1.check balance\n",
      "2.deposit\n",
      "3.withdraw\n",
      "4.quit\n"
     ]
    },
    {
     "name": "stdin",
     "output_type": "stream",
     "text": [
      "enter  ur choice(1/2/3/4): 4\n"
     ]
    },
    {
     "name": "stdout",
     "output_type": "stream",
     "text": [
      "thank you for using ATM.\n"
     ]
    }
   ],
   "source": [
    "account_balance = 1000.00\n",
    "while True:\n",
    "    print(\"ATM menu: \")\n",
    "    print(\"1.check balance\")\n",
    "    print(\"2.deposit\")\n",
    "    print(\"3.withdraw\")\n",
    "    print(\"4.quit\")\n",
    "    choice = input(\"enter  ur choice(1/2/3/4):\")\n",
    "    if choice == \"1\":\n",
    "        print(f\" ur account balance is ${account_balance:.2f}\")\n",
    "    elif choice == \"2\":\n",
    "        deposit = float(input(\"enter deposite amount: $\"))\n",
    "        account_balance += deposit\n",
    "        print(f\"deposited ${deposit:.2f}. ur update balance is${account_balance:.2f}\")\n",
    "    elif choice == \"3\":\n",
    "        withdrawal = float(input(\"enter  withdrawalamount: $\"))\n",
    "        if withdrawal <= account_balance:\n",
    "            account_balance -= withdrawal\n",
    "            print(f\"withdrew ${withdrawal:.2f}.urupdated balance is ${account_balance:.2f}\")\n",
    "        else:\n",
    "            print(\"insufficient funds.transaction canceled\")\n",
    "    elif choice == \"4\":\n",
    "        \n",
    "        print(\"thank you for using ATM.\")\n",
    "        break\n",
    "    else:\n",
    "        print(\"invalid choice please select valid option\")\n",
    "    "
   ]
  },
  {
   "cell_type": "markdown",
   "id": "7386dfae-05a2-4eb9-8748-ea344c8a0ea4",
   "metadata": {},
   "source": [
    "### 16 build a program that checks if a given string is a palindrome or not."
   ]
  },
  {
   "cell_type": "code",
   "execution_count": 8,
   "id": "1d0c0ab1-3324-49e2-81ba-27b87e069dc7",
   "metadata": {},
   "outputs": [
    {
     "name": "stdin",
     "output_type": "stream",
     "text": [
      "enter a string:  akanksha\n"
     ]
    },
    {
     "name": "stdout",
     "output_type": "stream",
     "text": [
      "akanksha is not palindrome\n"
     ]
    }
   ],
   "source": [
    "my_string = input(\"enter a string: \")\n",
    "cleaned_string = my_string.replace(\" \",\"\").lower()\n",
    "if cleaned_string == cleaned_string[::-1]:\n",
    "    print(f\" {my_string} is palindrome\")\n",
    "else:\n",
    "    print(f\"{my_string} is not palindrome\")"
   ]
  },
  {
   "cell_type": "markdown",
   "id": "51c47fe5-97c2-4664-a410-bc82cee0f15e",
   "metadata": {},
   "source": [
    "### 17.write a program that calculates the average of list of numbers, excluding the smallest and largest values."
   ]
  },
  {
   "cell_type": "code",
   "execution_count": 1,
   "id": "baec1292-913f-4daf-9713-2689e08be1dc",
   "metadata": {},
   "outputs": [
    {
     "name": "stdin",
     "output_type": "stream",
     "text": [
      "enter list of number separated by spaces:  1 2 3   6\n"
     ]
    },
    {
     "name": "stdout",
     "output_type": "stream",
     "text": [
      "the average (excluding smallest and largest)is: 2.50\n"
     ]
    }
   ],
   "source": [
    "numbers = input(\"enter list of number separated by spaces: \").split()\n",
    "numbers = [int(number) for number in numbers]\n",
    "if len(numbers) <3:\n",
    "    print(\"at least three number are required for calculation\")\n",
    "else:\n",
    "    numbers.remove(min(numbers))\n",
    "    numbers.remove(max(numbers))\n",
    "    average = sum(numbers)/ len(numbers)\n",
    "    print(f\"the average (excluding smallest and largest)is: {average:.2f}\")"
   ]
  },
  {
   "cell_type": "markdown",
   "id": "72bd4332-1ea5-4e30-923f-180e0e839364",
   "metadata": {},
   "source": [
    "### 18 Develop a program that coverts a given temperature from celcius to fahrenheit."
   ]
  },
  {
   "cell_type": "code",
   "execution_count": 3,
   "id": "f8087db3-dc03-4e8e-b5ae-a8cabf4f6e8e",
   "metadata": {},
   "outputs": [
    {
     "name": "stdin",
     "output_type": "stream",
     "text": [
      "enter temperature in celsius:  40\n"
     ]
    },
    {
     "name": "stdout",
     "output_type": "stream",
     "text": [
      "40.0 degrees celsius is equal to 104.0 degrees fahrenheit\n"
     ]
    }
   ],
   "source": [
    "celsius = float(input(\"enter temperature in celsius: \"))\n",
    "fahrenheit = (celsius * 9/5) + 32\n",
    "print(f\"{celsius} degrees celsius is equal to {fahrenheit} degrees fahrenheit\")"
   ]
  },
  {
   "cell_type": "markdown",
   "id": "3e274fe1-d558-488c-916d-1b7d1ca3860c",
   "metadata": {},
   "source": [
    "### 19.create a program that simulates a basic calculator for addition,subtrsction,multiplication,and division."
   ]
  },
  {
   "cell_type": "code",
   "execution_count": 25,
   "id": "bed12ac2-3f7b-4c96-ab15-abb776ee499a",
   "metadata": {},
   "outputs": [
    {
     "name": "stdout",
     "output_type": "stream",
     "text": [
      "result:30\n",
      "result: -10\n",
      "result: 200\n",
      "result: 0.5\n"
     ]
    }
   ],
   "source": [
    "num1 = x = 10\n",
    "num2 = y = 20\n",
    "\n",
    "def add(x , y):\n",
    "    return x + y\n",
    "print(\"result:\" +str(add(num1,num2)))\n",
    "\n",
    "def subtract(x,y):\n",
    "    return x-y\n",
    "print(\"result: \" +str(subtract(num1,num2)))\n",
    "\n",
    "def multiply(x,y):\n",
    "    return x*y\n",
    "print(\"result: \"+str(multiply(num1,num2)))\n",
    "\n",
    "def division (x,y):\n",
    "    return x/y\n",
    "print(\"result: \"+str (division(num1,num2)))\n"
   ]
  },
  {
   "cell_type": "markdown",
   "id": "c09394fd-d63b-4d09-ad91-c1f4ca024d5c",
   "metadata": {},
   "source": [
    "### 20.Write a program that determines the roots of a cubic equation using the cardano formula."
   ]
  },
  {
   "cell_type": "code",
   "execution_count": 30,
   "id": "e9b3e9d5-9c3d-40b6-bf59-c48e1d74100b",
   "metadata": {},
   "outputs": [
    {
     "name": "stdout",
     "output_type": "stream",
     "text": [
      "Roots: [3.0, 1.0, 1.9999999999999998]\n"
     ]
    }
   ],
   "source": [
    "import math\n",
    "def solve_cubic(a, b, c, d):\n",
    "    # Calculate the discriminant and its sign\n",
    "    p = c / a - (b**2) / (3 * a**2)\n",
    "    q = 2 * (b**3) / (27 * a**3) - (b * c) / (3 * a**2) + d / a\n",
    "    discriminant = (q**2) / 4 + (p**3) / 27\n",
    "\n",
    "    if discriminant > 0:\n",
    "        # One real root, two complex roots\n",
    "        r = (-q / 2 + math.sqrt(discriminant))**(1/3)\n",
    "        s = (-q / 2 - math.sqrt(discriminant))**(1/3)\n",
    "        real_root = r + s - b / (3 * a)\n",
    "        return [real_root]\n",
    "    elif discriminant == 0:\n",
    "        # Three real roots, one of them is repeated\n",
    "        r = (-q / 2)**(1/3)\n",
    "        real_root = 2 * r - b / (3 * a)\n",
    "        complex_root = (-r - b / (3 * a)) + 1j * (r * math.sqrt(3))\n",
    "        return [real_root, complex_root, complex_root.conjugate()]\n",
    "    else:\n",
    "        # Three real roots\n",
    "        r = math.sqrt((-p**3) / 27)\n",
    "        theta = math.acos(-q / (2 * r))\n",
    "        root1 = 2 * math.sqrt(-p / 3) * math.cos(theta / 3) - b / (3 * a)\n",
    "        root2 = 2 * math.sqrt(-p / 3) * math.cos((theta + 2 * math.pi) / 3) - b / (3 * a)\n",
    "        root3 = 2 * math.sqrt(-p / 3) * math.cos((theta + 4 * math.pi) / 3) - b / (3 * a)\n",
    "        return [root1, root2, root3]\n",
    "# Example usage\n",
    "a = 1\n",
    "b = -6\n",
    "c = 11\n",
    "d = -6\n",
    "roots = solve_cubic(a, b, c, d)\n",
    "print(\"Roots:\", roots)"
   ]
  },
  {
   "cell_type": "markdown",
   "id": "b9ae5f87-89a0-46da-96e0-5b008c812e77",
   "metadata": {},
   "source": [
    "## ADVANCED LEVEL:"
   ]
  },
  {
   "cell_type": "markdown",
   "id": "e259c375-9394-43f5-a760-ee086791987e",
   "metadata": {},
   "source": [
    "### 21 Create a program that calculates the income tax based on the user's income and tax brackets."
   ]
  },
  {
   "cell_type": "code",
   "execution_count": 32,
   "id": "aaf879e8-0354-450f-b86a-d817df4b8bb4",
   "metadata": {},
   "outputs": [
    {
     "name": "stdin",
     "output_type": "stream",
     "text": [
      "Enter your income:  12000000\n"
     ]
    },
    {
     "name": "stdout",
     "output_type": "stream",
     "text": [
      "Income Tax: $4212618.73\n"
     ]
    }
   ],
   "source": [
    "def calculate_income_tax(income):\n",
    "    # Define tax brackets and rates\n",
    "    tax_brackets = [\n",
    "        (0, 9875, 0.10),\n",
    "        (9876, 40125, 0.12),\n",
    "        (40126, 85525, 0.22),\n",
    "        (85526, 163300, 0.24),\n",
    "        (163301, 207350, 0.32),\n",
    "        (207351, 518400, 0.35),\n",
    "        (518401, float(\"inf\"), 0.37)]\n",
    "    \n",
    "    total_tax = 0\n",
    "\n",
    "    for bracket in tax_brackets:\n",
    "        min_income, max_income, tax_rate = bracket\n",
    "        if income <= 0:\n",
    "            break\n",
    "        if income > max_income:\n",
    "            taxable_income = max_income - min_income + 1\n",
    "        else:\n",
    "            taxable_income = income - min_income + 1\n",
    "        total_tax += taxable_income * tax_rate\n",
    "        income -= taxable_income\n",
    "\n",
    "    return total_tax\n",
    "# Get user input for income\n",
    "income = float(input(\"Enter your income: \"))\n",
    "# Calculate income tax\n",
    "income_tax = calculate_income_tax(income)\n",
    "# Display the calculated income tax\n",
    "print(\"Income Tax: ${:.2f}\".format(income_tax))"
   ]
  },
  {
   "cell_type": "markdown",
   "id": "4c486e07-9633-436d-9496-122c35008c97",
   "metadata": {},
   "source": [
    "### 23 develop a program that generates a random password based on user preferences (length,complexity)."
   ]
  },
  {
   "cell_type": "code",
   "execution_count": 1,
   "id": "af2a363b-ec88-4dfc-a29d-9d5b1a74b085",
   "metadata": {},
   "outputs": [
    {
     "name": "stdout",
     "output_type": "stream",
     "text": [
      "Welcome to the Random Password Generator!\n"
     ]
    },
    {
     "name": "stdin",
     "output_type": "stream",
     "text": [
      "Enter the desired password length:  8\n",
      "Include uppercase letters? (yes/no):  a\n",
      "Include digits? (yes/no):  no\n",
      "Include special characters? (yes/no):  @\n"
     ]
    },
    {
     "name": "stdout",
     "output_type": "stream",
     "text": [
      "Generated Password: aoqtyveg\n"
     ]
    }
   ],
   "source": [
    "import random\n",
    "import string\n",
    "\n",
    "def generate_password(length, use_uppercase, use_digits, use_special_chars):\n",
    "    characters = string.ascii_lowercase\n",
    "    if use_uppercase:\n",
    "        characters += string.ascii_uppercase\n",
    "    if use_digits:\n",
    "        characters += string.digits\n",
    "    if use_special_chars:\n",
    "        characters += string.punctuation\n",
    "\n",
    "    if length < 1:\n",
    "        return \"Password length must be at least 1.\"\n",
    "\n",
    "    password = ''.join(random.choice(characters) for _ in range(length))\n",
    "    return password\n",
    "\n",
    "def main():\n",
    "    print(\"Welcome to the Random Password Generator!\")\n",
    "\n",
    "    try:\n",
    "        length = int(input(\"Enter the desired password length: \"))\n",
    "    except ValueError:\n",
    "        print(\"Invalid input. Please enter a valid number.\")\n",
    "        return\n",
    "\n",
    "    use_uppercase = input(\"Include uppercase letters? (yes/no): \").lower() == \"yes\"\n",
    "    use_digits = input(\"Include digits? (yes/no): \").lower() == \"yes\"\n",
    "    use_special_chars = input(\"Include special characters? (yes/no): \").lower() == \"yes\"\n",
    "\n",
    "    password = generate_password(length, use_uppercase, use_digits, use_special_chars)\n",
    "    print(f\"Generated Password: {password}\")\n",
    "\n",
    "if __name__ == \"__main__\":\n",
    "    main()\n"
   ]
  },
  {
   "cell_type": "markdown",
   "id": "7983b87f-ad6c-4aff-ae24-2d5f740ee2b3",
   "metadata": {},
   "source": [
    "### 25 build a program that solves a linear equation for x, considering different cases."
   ]
  },
  {
   "cell_type": "code",
   "execution_count": 6,
   "id": "056b8174-0410-42ad-a30b-e5e948422499",
   "metadata": {},
   "outputs": [
    {
     "name": "stdin",
     "output_type": "stream",
     "text": [
      "enter coefficient 'a': 3.4\n",
      "enter coefficient 'b': 5.5\n"
     ]
    },
    {
     "name": "stdout",
     "output_type": "stream",
     "text": [
      "solution:\n",
      "x =  None\n"
     ]
    }
   ],
   "source": [
    "def solve_linear_equation(a,b):\n",
    "    if a == 0:\n",
    "        if b == 0:\n",
    "            return \"infinite solutions(any value of x)\"\n",
    "        else:\n",
    "            x = -b / a\n",
    "            return x\n",
    "a = float(input(\"enter coefficient 'a':\"))\n",
    "b = float(input(\"enter coefficient 'b':\"))\n",
    "solution = solve_linear_equation(a,b)\n",
    "print(\"solution:\")\n",
    "print(\"x = \", solution)\n",
    "            "
   ]
  },
  {
   "cell_type": "markdown",
   "id": "ca0a395f-76b9-4d74-adfe-f63a161bd16e",
   "metadata": {},
   "source": [
    "### 27 Develop a program that determines whether a given year is a prime number or not."
   ]
  },
  {
   "cell_type": "code",
   "execution_count": 7,
   "id": "e99cd1a1-3a8c-4a81-8105-1fb2ea9700a5",
   "metadata": {},
   "outputs": [
    {
     "name": "stdin",
     "output_type": "stream",
     "text": [
      "enter a year:  2029\n"
     ]
    },
    {
     "name": "stdout",
     "output_type": "stream",
     "text": [
      "2029 is a prime year\n"
     ]
    }
   ],
   "source": [
    "def is_prime(year):\n",
    "    if year <= 1:\n",
    "        return False\n",
    "    if year <= 3:\n",
    "        return True\n",
    "    if year % 2 == 0 or year % 3 == 0:\n",
    "        return False\n",
    "    i = 5\n",
    "    while i * i <= year:\n",
    "        if year % i == 0 or year % (i+2) == 0:\n",
    "            return False\n",
    "        i += 6\n",
    "    return True\n",
    "year = int(input(\"enter a year: \"))\n",
    "if is_prime(year):\n",
    "    print(year, \"is a prime year\")\n",
    "else:\n",
    "    print(year,\"is not a prime year\")"
   ]
  },
  {
   "cell_type": "markdown",
   "id": "27da79b8-c22a-453c-a082-2e57e0ef472a",
   "metadata": {},
   "source": [
    "### 28 create a program that sorts three numbers in asending order using conditional statements."
   ]
  },
  {
   "cell_type": "code",
   "execution_count": 1,
   "id": "0564030e-3ab8-4aa5-bd54-0c60132b6c45",
   "metadata": {},
   "outputs": [
    {
     "name": "stdin",
     "output_type": "stream",
     "text": [
      "enter first number:  45\n",
      "enter second number:  77\n",
      "enter third number:  55\n"
     ]
    },
    {
     "name": "stdout",
     "output_type": "stream",
     "text": [
      "number in ascending order :  [45.0, 55.0, 77.0]\n"
     ]
    }
   ],
   "source": [
    "num1 = float(input(\"enter first number: \"))\n",
    "num2 = float(input(\"enter second number: \"))\n",
    "num3 = float(input(\"enter third number: \"))\n",
    "if num1 <= num2 <= num3:\n",
    "    sorted_nums = [num1,num2,num3]\n",
    "elif num1 <= num3 <= num2:\n",
    "    sorted_nums = [num1,num3, num2]\n",
    "else:\n",
    "    sorted_nums = [num3, num2, num1]\n",
    "print(\"number in ascending order : \", sorted_nums)"
   ]
  },
  {
   "cell_type": "markdown",
   "id": "993e5fe8-fa5e-45c3-94a9-aea0b1c4564e",
   "metadata": {},
   "source": [
    "### 29 build a program that determines the roots of quadratic equation using numerical methods."
   ]
  },
  {
   "cell_type": "code",
   "execution_count": 3,
   "id": "bfffdaa4-39dc-4ba0-938c-238b0031474e",
   "metadata": {},
   "outputs": [
    {
     "name": "stdout",
     "output_type": "stream",
     "text": [
      "approximate roots: [0, 0, 1.00000000000000, 2.00000000000000]\n"
     ]
    }
   ],
   "source": [
    "import sympy as sp \n",
    "x = sp.symbols('x')\n",
    "equation = x**4 - 6*x**3 +11*x**2 - 6*x\n",
    "initial_guesses = [-1.0,0.0,1.0,2.0]\n",
    "roots = []\n",
    "for guess in initial_guesses:\n",
    "    root = sp.nsolve(equation, x, guess)\n",
    "    roots.append(root)\n",
    "print(\"approximate roots:\",roots)"
   ]
  },
  {
   "cell_type": "markdown",
   "id": "cbfed3db-99d2-49b8-b7ef-bd9f8e04e579",
   "metadata": {},
   "source": [
    "### 30 write a program that calculates the BMI and provides health recommendations based on the user's input."
   ]
  },
  {
   "cell_type": "code",
   "execution_count": 5,
   "id": "e9f19176-6213-49b6-b08c-eaf168b722db",
   "metadata": {},
   "outputs": [
    {
     "name": "stdin",
     "output_type": "stream",
     "text": [
      "enter weight in kilograms:  76\n",
      "enter height in meters:  5.5\n"
     ]
    },
    {
     "name": "stdout",
     "output_type": "stream",
     "text": [
      "your BMI is:2.51\n",
      "health recommendation: you  are underweigth. its important to maintain  balance diet and consult healthcare\n"
     ]
    }
   ],
   "source": [
    "def calculate_bmi(weight_kg,height_m):\n",
    "    return weight_kg / (height_m**2)\n",
    "def health_recommendation(bmi):\n",
    "    if bmi < 18.5:\n",
    "        return \"you  are underweigth. its important to maintain  balance diet and consult healthcare\"\n",
    "    elif 18.5 <= bmi < 24.9:\n",
    "        return \"your BMI is normal range. keep up good work with healty lifestyle.\"\n",
    "    elif 24.9 <= bmi < 29.9:\n",
    "        return \"you are overweight. consider managing your weight through balance diet and exercise.\"\n",
    "    else:\n",
    "        return \"you are obese. its crucial to consult a healthcare professinal and make lifestyle changes\"\n",
    "weight_kg = float(input(\"enter weight in kilograms: \"))\n",
    "height_m = float(input(\"enter height in meters: \"))\n",
    "bmi = calculate_bmi(weight_kg, height_m)\n",
    "print(\"your BMI is:{:.2f}\".format(bmi))\n",
    "recommendation = health_recommendation(bmi)\n",
    "print(\"health recommendation:\", recommendation)"
   ]
  },
  {
   "cell_type": "markdown",
   "id": "86cd7634-a397-445c-ad50-17ab17353c49",
   "metadata": {},
   "source": [
    "## CHALLENGE LEVEL:"
   ]
  },
  {
   "cell_type": "code",
   "execution_count": null,
   "id": "ce4570db-d449-4fba-b269-5b0a5874cc58",
   "metadata": {},
   "outputs": [],
   "source": []
  },
  {
   "cell_type": "markdown",
   "id": "71849f0c-d31c-437e-8d60-ded2a3fc5e5e",
   "metadata": {},
   "source": [
    "### 33 write a program that calculates the gratest common divisor (GCD) of two numbers using the euclidean algorithm"
   ]
  },
  {
   "cell_type": "code",
   "execution_count": 15,
   "id": "d8262690-ef54-4cd5-a821-1672d3107e98",
   "metadata": {},
   "outputs": [
    {
     "name": "stdin",
     "output_type": "stream",
     "text": [
      "enter first number:  33\n",
      "enetr second number:  56\n"
     ]
    },
    {
     "name": "stdout",
     "output_type": "stream",
     "text": [
      "the greatest common divisor (GCD) of  33 and 56 is 56\n"
     ]
    }
   ],
   "source": [
    "def euclidean_gcd(a, b):\n",
    "    while b:\n",
    "        a,b = b, a % b\n",
    "        return a\n",
    "num1 = int(input(\"enter first number: \"))\n",
    "num2 = int(input(\"enetr second number: \"))\n",
    "gcd = euclidean_gcd(num1, num2)\n",
    "print(\"the greatest common divisor (GCD) of \", num1, \"and\", num2,\"is\",gcd)"
   ]
  },
  {
   "cell_type": "markdown",
   "id": "648d31f0-0b10-416f-8a0b-3c47512bb88d",
   "metadata": {},
   "source": [
    "### 34.Build a program that performs matrix multiplication using nested loops and conditional statements."
   ]
  },
  {
   "cell_type": "code",
   "execution_count": 3,
   "id": "9e7be729-6af7-4f02-b4be-d19865d6a987",
   "metadata": {},
   "outputs": [
    {
     "name": "stdout",
     "output_type": "stream",
     "text": [
      "[114, 160, 60, 27]\n",
      "[74, 97, 73, 14]\n",
      "[119, 157, 112, 23]\n"
     ]
    }
   ],
   "source": [
    "x = [[12, 7 ,3],[4, 5, 6],[7, 8 , 9]]\n",
    "y = [[5 ,8, 1 ,2],[6, 7,3 , 0],[4, 5, 9 , 1]]\n",
    "result = [[0 ,0 ,0 ,0],[ 0, 0, 0 ,0 ,],[0 ,0 ,0 ,0 ]]\n",
    "for i in range(len(x)):\n",
    "    for j in range(len(y[0])):\n",
    "        for k in range(len(y)):\n",
    "            result[i][j] += x[i][k]* y[k][j]\n",
    "for r in result:\n",
    "    print(r)"
   ]
  },
  {
   "cell_type": "markdown",
   "id": "c2466769-7f66-4b58-bf99-385ddcbde77e",
   "metadata": {},
   "source": [
    "### 36 write a program that generates fibonacci numbers up to a specified term using iterative methods."
   ]
  },
  {
   "cell_type": "code",
   "execution_count": 8,
   "id": "525f4026-4fb1-4e79-8368-726b54d0796c",
   "metadata": {},
   "outputs": [
    {
     "name": "stdin",
     "output_type": "stream",
     "text": [
      "enter number of terms in sequence:  8\n"
     ]
    },
    {
     "name": "stdout",
     "output_type": "stream",
     "text": [
      "0 1 1 2 3 5 8 13 "
     ]
    }
   ],
   "source": [
    "a = 0 \n",
    "b = 1\n",
    "n = int(input(\"enter number of terms in sequence: \"))\n",
    "print(a,b, end = \" \")\n",
    "while(n-2):\n",
    "    c = a + b\n",
    "    a,b = b,c\n",
    "    print(c,end= \" \")\n",
    "    n = n - 1\n",
    "    "
   ]
  },
  {
   "cell_type": "markdown",
   "id": "bf61c04e-d9d1-4790-b4bf-39d4213d7a48",
   "metadata": {},
   "source": [
    "### 37 develop a program that calculates the nth term of the fibonacci sequence using memoization"
   ]
  },
  {
   "cell_type": "code",
   "execution_count": 13,
   "id": "2929d58f-f5eb-49b9-b751-6ecbbf768e81",
   "metadata": {},
   "outputs": [
    {
     "name": "stdout",
     "output_type": "stream",
     "text": [
      "120\n"
     ]
    }
   ],
   "source": [
    "def fact(n):\n",
    "    if n == 1:\n",
    "        return n\n",
    "    else:\n",
    "        return n * fact(n-1)\n",
    "print(fact(5))"
   ]
  },
  {
   "cell_type": "markdown",
   "id": "84f71051-f599-49cc-985e-08f26121c1cb",
   "metadata": {},
   "source": [
    "### 38 create a program that generates a calendar for a given month and year using conditional statements"
   ]
  },
  {
   "cell_type": "code",
   "execution_count": 14,
   "id": "91797433-4f21-4744-b9ea-76d8f3afdf9d",
   "metadata": {},
   "outputs": [
    {
     "name": "stdin",
     "output_type": "stream",
     "text": [
      "enter year(e.g, 2023):  2024\n",
      "enter  month (1-12):  9\n"
     ]
    },
    {
     "name": "stdout",
     "output_type": "stream",
     "text": [
      "\n",
      "calendar for September - 2024\n",
      "   September 2024\n",
      "Mo Tu We Th Fr Sa Su\n",
      "                   1\n",
      " 2  3  4  5  6  7  8\n",
      " 9 10 11 12 13 14 15\n",
      "16 17 18 19 20 21 22\n",
      "23 24 25 26 27 28 29\n",
      "30\n",
      "\n"
     ]
    }
   ],
   "source": [
    "import calendar\n",
    "year = int(input(\"enter year(e.g, 2023): \"))\n",
    "month = int(input(\"enter  month (1-12): \"))\n",
    "\n",
    "if month < 1 or month > 12:\n",
    "    print(\"invalid month. please enter month between 1 and 12 \")\n",
    "else:\n",
    "    cal = calendar.month(year, month)\n",
    "    print(\"\\ncalendar for {} - {}\".format(calendar.month_name[month], year))\n",
    "    print(cal)"
   ]
  },
  {
   "cell_type": "markdown",
   "id": "6b8019fe-8d1c-4ccc-9b7a-f60e0549e59b",
   "metadata": {},
   "source": [
    "### 40.write a program that generates the prime factors of a given number using trial division."
   ]
  },
  {
   "cell_type": "code",
   "execution_count": 3,
   "id": "3a99097f-c71e-447b-be3f-b6f5a514cca8",
   "metadata": {},
   "outputs": [
    {
     "name": "stdin",
     "output_type": "stream",
     "text": [
      "enter number to find its peime factors:  8\n"
     ]
    },
    {
     "name": "stdout",
     "output_type": "stream",
     "text": [
      "prime factors of 8: [2, 2, 2]\n"
     ]
    }
   ],
   "source": [
    "def prime_factors(n):\n",
    "    factors = []\n",
    "    divisor = 2\n",
    "    while divisor <= n:\n",
    "        if n % divisor == 0:\n",
    "            factors.append(divisor)\n",
    "            n //= divisor\n",
    "        else:\n",
    "            divisor += 1\n",
    "    return factors\n",
    "num = int(input(\"enter number to find its peime factors: \"))\n",
    "if num < 2:\n",
    "        print(\"prime factor are not defined for  numbers less than 2\")\n",
    "else:\n",
    "        factors = prime_factors(num)\n",
    "        if len(factors) == 1:\n",
    "            print(f\"{num} is prime number\")\n",
    "        else:\n",
    "            print(f\"prime factors of {num}: {factors}\")\n",
    "        "
   ]
  },
  {
   "cell_type": "code",
   "execution_count": null,
   "id": "8a513524-f9c4-4818-acfc-5491cb834318",
   "metadata": {},
   "outputs": [],
   "source": []
  }
 ],
 "metadata": {
  "kernelspec": {
   "display_name": "Python 3 (ipykernel)",
   "language": "python",
   "name": "python3"
  },
  "language_info": {
   "codemirror_mode": {
    "name": "ipython",
    "version": 3
   },
   "file_extension": ".py",
   "mimetype": "text/x-python",
   "name": "python",
   "nbconvert_exporter": "python",
   "pygments_lexer": "ipython3",
   "version": "3.10.8"
  }
 },
 "nbformat": 4,
 "nbformat_minor": 5
}
